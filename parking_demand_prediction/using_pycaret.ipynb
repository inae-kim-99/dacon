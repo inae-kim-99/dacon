{
 "cells": [
  {
   "cell_type": "markdown",
   "metadata": {},
   "source": [
    "### 패키지 불러오기"
   ]
  },
  {
   "cell_type": "code",
   "execution_count": 3,
   "metadata": {},
   "outputs": [
    {
     "ename": "ImportError",
     "evalue": "Numba needs NumPy 1.20 or less",
     "output_type": "error",
     "traceback": [
      "\u001b[1;31m---------------------------------------------------------------------------\u001b[0m",
      "\u001b[1;31mImportError\u001b[0m                               Traceback (most recent call last)",
      "\u001b[1;32mc:\\Users\\kia34\\Desktop\\github_project\\dacon\\parking_demand_prediction\\using_pycaret.ipynb Cell 2'\u001b[0m in \u001b[0;36m<cell line: 8>\u001b[1;34m()\u001b[0m\n\u001b[0;32m      <a href='vscode-notebook-cell:/c%3A/Users/kia34/Desktop/github_project/dacon/parking_demand_prediction/using_pycaret.ipynb#ch0000000?line=4'>5</a>\u001b[0m matplotlib\u001b[39m.\u001b[39mrcParams[\u001b[39m'\u001b[39m\u001b[39maxes.unicode_minus\u001b[39m\u001b[39m'\u001b[39m] \u001b[39m=\u001b[39m \u001b[39mFalse\u001b[39;00m\n\u001b[0;32m      <a href='vscode-notebook-cell:/c%3A/Users/kia34/Desktop/github_project/dacon/parking_demand_prediction/using_pycaret.ipynb#ch0000000?line=6'>7</a>\u001b[0m \u001b[39mfrom\u001b[39;00m \u001b[39mtqdm\u001b[39;00m\u001b[39m.\u001b[39;00m\u001b[39mnotebook\u001b[39;00m \u001b[39mimport\u001b[39;00m tqdm\n\u001b[1;32m----> <a href='vscode-notebook-cell:/c%3A/Users/kia34/Desktop/github_project/dacon/parking_demand_prediction/using_pycaret.ipynb#ch0000000?line=7'>8</a>\u001b[0m \u001b[39mfrom\u001b[39;00m \u001b[39mpycaret\u001b[39;00m\u001b[39m.\u001b[39;00m\u001b[39mregression\u001b[39;00m \u001b[39mimport\u001b[39;00m \u001b[39m*\u001b[39m\n\u001b[0;32m     <a href='vscode-notebook-cell:/c%3A/Users/kia34/Desktop/github_project/dacon/parking_demand_prediction/using_pycaret.ipynb#ch0000000?line=9'>10</a>\u001b[0m \u001b[39mimport\u001b[39;00m \u001b[39mpandas\u001b[39;00m \u001b[39mas\u001b[39;00m \u001b[39mpd\u001b[39;00m\n\u001b[0;32m     <a href='vscode-notebook-cell:/c%3A/Users/kia34/Desktop/github_project/dacon/parking_demand_prediction/using_pycaret.ipynb#ch0000000?line=10'>11</a>\u001b[0m \u001b[39mimport\u001b[39;00m \u001b[39mnumpy\u001b[39;00m \u001b[39mas\u001b[39;00m \u001b[39mnp\u001b[39;00m\n",
      "File \u001b[1;32m~\\anaconda3\\envs\\dacon\\lib\\site-packages\\pycaret\\regression.py:10\u001b[0m, in \u001b[0;36m<module>\u001b[1;34m\u001b[0m\n\u001b[0;32m      <a href='file:///c%3A/Users/kia34/anaconda3/envs/dacon/lib/site-packages/pycaret/regression.py?line=6'>7</a>\u001b[0m \u001b[39mimport\u001b[39;00m \u001b[39mpandas\u001b[39;00m \u001b[39mas\u001b[39;00m \u001b[39mpd\u001b[39;00m\n\u001b[0;32m      <a href='file:///c%3A/Users/kia34/anaconda3/envs/dacon/lib/site-packages/pycaret/regression.py?line=7'>8</a>\u001b[0m \u001b[39mimport\u001b[39;00m \u001b[39mnumpy\u001b[39;00m \u001b[39mas\u001b[39;00m \u001b[39mnp\u001b[39;00m\n\u001b[1;32m---> <a href='file:///c%3A/Users/kia34/anaconda3/envs/dacon/lib/site-packages/pycaret/regression.py?line=9'>10</a>\u001b[0m \u001b[39mimport\u001b[39;00m \u001b[39mpycaret\u001b[39;00m\u001b[39m.\u001b[39;00m\u001b[39minternal\u001b[39;00m\u001b[39m.\u001b[39;00m\u001b[39mtabular\u001b[39;00m\n\u001b[0;32m     <a href='file:///c%3A/Users/kia34/anaconda3/envs/dacon/lib/site-packages/pycaret/regression.py?line=10'>11</a>\u001b[0m \u001b[39mfrom\u001b[39;00m \u001b[39mpycaret\u001b[39;00m\u001b[39m.\u001b[39;00m\u001b[39mloggers\u001b[39;00m\u001b[39m.\u001b[39;00m\u001b[39mbase_logger\u001b[39;00m \u001b[39mimport\u001b[39;00m BaseLogger\n\u001b[0;32m     <a href='file:///c%3A/Users/kia34/anaconda3/envs/dacon/lib/site-packages/pycaret/regression.py?line=11'>12</a>\u001b[0m \u001b[39mfrom\u001b[39;00m \u001b[39mpycaret\u001b[39;00m\u001b[39m.\u001b[39;00m\u001b[39mparallel\u001b[39;00m \u001b[39mimport\u001b[39;00m ParallelBackend\n",
      "File \u001b[1;32m~\\anaconda3\\envs\\dacon\\lib\\site-packages\\pycaret\\internal\\tabular.py:54\u001b[0m, in \u001b[0;36m<module>\u001b[1;34m\u001b[0m\n\u001b[0;32m     <a href='file:///c%3A/Users/kia34/anaconda3/envs/dacon/lib/site-packages/pycaret/internal/tabular.py?line=51'>52</a>\u001b[0m \u001b[39mimport\u001b[39;00m \u001b[39mpycaret\u001b[39;00m\u001b[39m.\u001b[39;00m\u001b[39mcontainers\u001b[39;00m\u001b[39m.\u001b[39;00m\u001b[39mmodels\u001b[39;00m\u001b[39m.\u001b[39;00m\u001b[39mclustering\u001b[39;00m\n\u001b[0;32m     <a href='file:///c%3A/Users/kia34/anaconda3/envs/dacon/lib/site-packages/pycaret/internal/tabular.py?line=52'>53</a>\u001b[0m \u001b[39mimport\u001b[39;00m \u001b[39mpycaret\u001b[39;00m\u001b[39m.\u001b[39;00m\u001b[39mcontainers\u001b[39;00m\u001b[39m.\u001b[39;00m\u001b[39mmodels\u001b[39;00m\u001b[39m.\u001b[39;00m\u001b[39manomaly\u001b[39;00m\n\u001b[1;32m---> <a href='file:///c%3A/Users/kia34/anaconda3/envs/dacon/lib/site-packages/pycaret/internal/tabular.py?line=53'>54</a>\u001b[0m \u001b[39mimport\u001b[39;00m \u001b[39mpycaret\u001b[39;00m\u001b[39m.\u001b[39;00m\u001b[39minternal\u001b[39;00m\u001b[39m.\u001b[39;00m\u001b[39mpreprocess\u001b[39;00m\n\u001b[0;32m     <a href='file:///c%3A/Users/kia34/anaconda3/envs/dacon/lib/site-packages/pycaret/internal/tabular.py?line=54'>55</a>\u001b[0m \u001b[39mimport\u001b[39;00m \u001b[39mpandas\u001b[39;00m \u001b[39mas\u001b[39;00m \u001b[39mpd\u001b[39;00m\n\u001b[0;32m     <a href='file:///c%3A/Users/kia34/anaconda3/envs/dacon/lib/site-packages/pycaret/internal/tabular.py?line=55'>56</a>\u001b[0m \u001b[39mimport\u001b[39;00m \u001b[39mnumpy\u001b[39;00m \u001b[39mas\u001b[39;00m \u001b[39mnp\u001b[39;00m\n",
      "File \u001b[1;32m~\\anaconda3\\envs\\dacon\\lib\\site-packages\\pycaret\\internal\\preprocess.py:27\u001b[0m, in \u001b[0;36m<module>\u001b[1;34m\u001b[0m\n\u001b[0;32m     <a href='file:///c%3A/Users/kia34/anaconda3/envs/dacon/lib/site-packages/pycaret/internal/preprocess.py?line=24'>25</a>\u001b[0m \u001b[39mfrom\u001b[39;00m \u001b[39msklearn\u001b[39;00m\u001b[39m.\u001b[39;00m\u001b[39mdecomposition\u001b[39;00m \u001b[39mimport\u001b[39;00m IncrementalPCA\n\u001b[0;32m     <a href='file:///c%3A/Users/kia34/anaconda3/envs/dacon/lib/site-packages/pycaret/internal/preprocess.py?line=25'>26</a>\u001b[0m \u001b[39mfrom\u001b[39;00m \u001b[39msklearn\u001b[39;00m\u001b[39m.\u001b[39;00m\u001b[39mpreprocessing\u001b[39;00m \u001b[39mimport\u001b[39;00m KBinsDiscretizer\n\u001b[1;32m---> <a href='file:///c%3A/Users/kia34/anaconda3/envs/dacon/lib/site-packages/pycaret/internal/preprocess.py?line=26'>27</a>\u001b[0m \u001b[39mfrom\u001b[39;00m \u001b[39mpyod\u001b[39;00m\u001b[39m.\u001b[39;00m\u001b[39mmodels\u001b[39;00m\u001b[39m.\u001b[39;00m\u001b[39mknn\u001b[39;00m \u001b[39mimport\u001b[39;00m KNN\n\u001b[0;32m     <a href='file:///c%3A/Users/kia34/anaconda3/envs/dacon/lib/site-packages/pycaret/internal/preprocess.py?line=27'>28</a>\u001b[0m \u001b[39mfrom\u001b[39;00m \u001b[39mpyod\u001b[39;00m\u001b[39m.\u001b[39;00m\u001b[39mmodels\u001b[39;00m\u001b[39m.\u001b[39;00m\u001b[39miforest\u001b[39;00m \u001b[39mimport\u001b[39;00m IForest\n\u001b[0;32m     <a href='file:///c%3A/Users/kia34/anaconda3/envs/dacon/lib/site-packages/pycaret/internal/preprocess.py?line=28'>29</a>\u001b[0m \u001b[39mfrom\u001b[39;00m \u001b[39mpyod\u001b[39;00m\u001b[39m.\u001b[39;00m\u001b[39mmodels\u001b[39;00m\u001b[39m.\u001b[39;00m\u001b[39mpca\u001b[39;00m \u001b[39mimport\u001b[39;00m PCA \u001b[39mas\u001b[39;00m PCA_od\n",
      "File \u001b[1;32m~\\anaconda3\\envs\\dacon\\lib\\site-packages\\pyod\\__init__.py:4\u001b[0m, in \u001b[0;36m<module>\u001b[1;34m\u001b[0m\n\u001b[0;32m      <a href='file:///c%3A/Users/kia34/anaconda3/envs/dacon/lib/site-packages/pyod/__init__.py?line=0'>1</a>\u001b[0m \u001b[39m# -*- coding: utf-8 -*-\u001b[39;00m\n\u001b[0;32m      <a href='file:///c%3A/Users/kia34/anaconda3/envs/dacon/lib/site-packages/pyod/__init__.py?line=2'>3</a>\u001b[0m \u001b[39mfrom\u001b[39;00m \u001b[39m.\u001b[39;00m \u001b[39mimport\u001b[39;00m models\n\u001b[1;32m----> <a href='file:///c%3A/Users/kia34/anaconda3/envs/dacon/lib/site-packages/pyod/__init__.py?line=3'>4</a>\u001b[0m \u001b[39mfrom\u001b[39;00m \u001b[39m.\u001b[39;00m \u001b[39mimport\u001b[39;00m utils\n\u001b[0;32m      <a href='file:///c%3A/Users/kia34/anaconda3/envs/dacon/lib/site-packages/pyod/__init__.py?line=4'>5</a>\u001b[0m \u001b[39m# TODO: add version information here\u001b[39;00m\n\u001b[0;32m      <a href='file:///c%3A/Users/kia34/anaconda3/envs/dacon/lib/site-packages/pyod/__init__.py?line=6'>7</a>\u001b[0m __all__ \u001b[39m=\u001b[39m [\u001b[39m'\u001b[39m\u001b[39mmodels\u001b[39m\u001b[39m'\u001b[39m, \u001b[39m'\u001b[39m\u001b[39mutils\u001b[39m\u001b[39m'\u001b[39m]\n",
      "File \u001b[1;32m~\\anaconda3\\envs\\dacon\\lib\\site-packages\\pyod\\utils\\__init__.py:12\u001b[0m, in \u001b[0;36m<module>\u001b[1;34m\u001b[0m\n\u001b[0;32m     <a href='file:///c%3A/Users/kia34/anaconda3/envs/dacon/lib/site-packages/pyod/utils/__init__.py?line=9'>10</a>\u001b[0m \u001b[39mfrom\u001b[39;00m \u001b[39m.\u001b[39;00m\u001b[39mdata\u001b[39;00m \u001b[39mimport\u001b[39;00m generate_data\n\u001b[0;32m     <a href='file:///c%3A/Users/kia34/anaconda3/envs/dacon/lib/site-packages/pyod/utils/__init__.py?line=10'>11</a>\u001b[0m \u001b[39mfrom\u001b[39;00m \u001b[39m.\u001b[39;00m\u001b[39mdata\u001b[39;00m \u001b[39mimport\u001b[39;00m evaluate_print\n\u001b[1;32m---> <a href='file:///c%3A/Users/kia34/anaconda3/envs/dacon/lib/site-packages/pyod/utils/__init__.py?line=11'>12</a>\u001b[0m \u001b[39mfrom\u001b[39;00m \u001b[39m.\u001b[39;00m\u001b[39mstat_models\u001b[39;00m \u001b[39mimport\u001b[39;00m pairwise_distances_no_broadcast\n\u001b[0;32m     <a href='file:///c%3A/Users/kia34/anaconda3/envs/dacon/lib/site-packages/pyod/utils/__init__.py?line=12'>13</a>\u001b[0m \u001b[39mfrom\u001b[39;00m \u001b[39m.\u001b[39;00m\u001b[39mstat_models\u001b[39;00m \u001b[39mimport\u001b[39;00m wpearsonr\n\u001b[0;32m     <a href='file:///c%3A/Users/kia34/anaconda3/envs/dacon/lib/site-packages/pyod/utils/__init__.py?line=13'>14</a>\u001b[0m \u001b[39mfrom\u001b[39;00m \u001b[39m.\u001b[39;00m\u001b[39mstat_models\u001b[39;00m \u001b[39mimport\u001b[39;00m pearsonr_mat\n",
      "File \u001b[1;32m~\\anaconda3\\envs\\dacon\\lib\\site-packages\\pyod\\utils\\stat_models.py:11\u001b[0m, in \u001b[0;36m<module>\u001b[1;34m\u001b[0m\n\u001b[0;32m      <a href='file:///c%3A/Users/kia34/anaconda3/envs/dacon/lib/site-packages/pyod/utils/stat_models.py?line=7'>8</a>\u001b[0m \u001b[39mfrom\u001b[39;00m \u001b[39m__future__\u001b[39;00m \u001b[39mimport\u001b[39;00m print_function\n\u001b[0;32m     <a href='file:///c%3A/Users/kia34/anaconda3/envs/dacon/lib/site-packages/pyod/utils/stat_models.py?line=9'>10</a>\u001b[0m \u001b[39mimport\u001b[39;00m \u001b[39mnumpy\u001b[39;00m \u001b[39mas\u001b[39;00m \u001b[39mnp\u001b[39;00m\n\u001b[1;32m---> <a href='file:///c%3A/Users/kia34/anaconda3/envs/dacon/lib/site-packages/pyod/utils/stat_models.py?line=10'>11</a>\u001b[0m \u001b[39mfrom\u001b[39;00m \u001b[39mnumba\u001b[39;00m \u001b[39mimport\u001b[39;00m njit\n\u001b[0;32m     <a href='file:///c%3A/Users/kia34/anaconda3/envs/dacon/lib/site-packages/pyod/utils/stat_models.py?line=11'>12</a>\u001b[0m \u001b[39mfrom\u001b[39;00m \u001b[39mscipy\u001b[39;00m\u001b[39m.\u001b[39;00m\u001b[39mstats\u001b[39;00m \u001b[39mimport\u001b[39;00m pearsonr\n\u001b[0;32m     <a href='file:///c%3A/Users/kia34/anaconda3/envs/dacon/lib/site-packages/pyod/utils/stat_models.py?line=12'>13</a>\u001b[0m \u001b[39mfrom\u001b[39;00m \u001b[39msklearn\u001b[39;00m\u001b[39m.\u001b[39;00m\u001b[39mutils\u001b[39;00m\u001b[39m.\u001b[39;00m\u001b[39mvalidation\u001b[39;00m \u001b[39mimport\u001b[39;00m check_array\n",
      "File \u001b[1;32m~\\anaconda3\\envs\\dacon\\lib\\site-packages\\numba\\__init__.py:198\u001b[0m, in \u001b[0;36m<module>\u001b[1;34m\u001b[0m\n\u001b[0;32m    <a href='file:///c%3A/Users/kia34/anaconda3/envs/dacon/lib/site-packages/numba/__init__.py?line=194'>195</a>\u001b[0m     \u001b[39mreturn\u001b[39;00m \u001b[39mFalse\u001b[39;00m\n\u001b[0;32m    <a href='file:///c%3A/Users/kia34/anaconda3/envs/dacon/lib/site-packages/numba/__init__.py?line=196'>197</a>\u001b[0m _ensure_llvm()\n\u001b[1;32m--> <a href='file:///c%3A/Users/kia34/anaconda3/envs/dacon/lib/site-packages/numba/__init__.py?line=197'>198</a>\u001b[0m _ensure_critical_deps()\n\u001b[0;32m    <a href='file:///c%3A/Users/kia34/anaconda3/envs/dacon/lib/site-packages/numba/__init__.py?line=199'>200</a>\u001b[0m \u001b[39m# we know llvmlite is working as the above tests passed, import it now as SVML\u001b[39;00m\n\u001b[0;32m    <a href='file:///c%3A/Users/kia34/anaconda3/envs/dacon/lib/site-packages/numba/__init__.py?line=200'>201</a>\u001b[0m \u001b[39m# needs to mutate runtime options (sets the `-vector-library`).\u001b[39;00m\n\u001b[0;32m    <a href='file:///c%3A/Users/kia34/anaconda3/envs/dacon/lib/site-packages/numba/__init__.py?line=201'>202</a>\u001b[0m \u001b[39mimport\u001b[39;00m \u001b[39mllvmlite\u001b[39;00m\n",
      "File \u001b[1;32m~\\anaconda3\\envs\\dacon\\lib\\site-packages\\numba\\__init__.py:138\u001b[0m, in \u001b[0;36m_ensure_critical_deps\u001b[1;34m()\u001b[0m\n\u001b[0;32m    <a href='file:///c%3A/Users/kia34/anaconda3/envs/dacon/lib/site-packages/numba/__init__.py?line=135'>136</a>\u001b[0m     \u001b[39mraise\u001b[39;00m \u001b[39mImportError\u001b[39;00m(\u001b[39m\"\u001b[39m\u001b[39mNumba needs NumPy 1.17 or greater\u001b[39m\u001b[39m\"\u001b[39m)\n\u001b[0;32m    <a href='file:///c%3A/Users/kia34/anaconda3/envs/dacon/lib/site-packages/numba/__init__.py?line=136'>137</a>\u001b[0m \u001b[39melif\u001b[39;00m numpy_version \u001b[39m>\u001b[39m (\u001b[39m1\u001b[39m, \u001b[39m20\u001b[39m):\n\u001b[1;32m--> <a href='file:///c%3A/Users/kia34/anaconda3/envs/dacon/lib/site-packages/numba/__init__.py?line=137'>138</a>\u001b[0m     \u001b[39mraise\u001b[39;00m \u001b[39mImportError\u001b[39;00m(\u001b[39m\"\u001b[39m\u001b[39mNumba needs NumPy 1.20 or less\u001b[39m\u001b[39m\"\u001b[39m)\n\u001b[0;32m    <a href='file:///c%3A/Users/kia34/anaconda3/envs/dacon/lib/site-packages/numba/__init__.py?line=139'>140</a>\u001b[0m \u001b[39mtry\u001b[39;00m:\n\u001b[0;32m    <a href='file:///c%3A/Users/kia34/anaconda3/envs/dacon/lib/site-packages/numba/__init__.py?line=140'>141</a>\u001b[0m     \u001b[39mimport\u001b[39;00m \u001b[39mscipy\u001b[39;00m\n",
      "\u001b[1;31mImportError\u001b[0m: Numba needs NumPy 1.20 or less"
     ]
    }
   ],
   "source": [
    "import matplotlib\n",
    "import matplotlib.pyplot as plt \n",
    "import matplotlib.font_manager as fm \n",
    "\n",
    "matplotlib.rcParams['axes.unicode_minus'] = False\n",
    "\n",
    "from tqdm.notebook import tqdm\n",
    "from pycaret.regression import *\n",
    "\n",
    "import pandas as pd\n",
    "import numpy as np\n",
    "import matplotlib.pyplot as plt\n",
    "import seaborn as sns\n",
    "\n",
    "import warnings\n",
    "warnings.filterwarnings(\"ignore\")\n",
    "\n",
    "import os\n",
    "data_path = './data'"
   ]
  },
  {
   "cell_type": "markdown",
   "metadata": {},
   "source": [
    "### 데이터 탐색 & 전처리"
   ]
  },
  {
   "cell_type": "code",
   "execution_count": null,
   "metadata": {},
   "outputs": [],
   "source": [
    "age_gender = pd.read_csv(os.path.join(data_path, 'age_gender_info.csv'))\n",
    "train = pd.read_csv(os.path.join(data_path, 'train.csv'))\n",
    "test = pd.read_csv(os.path.join(data_path, 'test.csv'))"
   ]
  },
  {
   "cell_type": "code",
   "execution_count": null,
   "metadata": {},
   "outputs": [],
   "source": [
    "train.loc[train.임대보증금=='-', '임대보증금'] = np.nan\n",
    "test.loc[test.임대보증금=='-', '임대보증금'] = np.nan\n",
    "train['임대보증금'] = train['임대보증금'].astype(float)\n",
    "test['임대보증금'] = test['임대보증금'].astype(float)\n",
    "\n",
    "train.loc[train.임대료=='-', '임대료'] = np.nan\n",
    "test.loc[test.임대료=='-', '임대료'] = np.nan\n",
    "train['임대료'] = train['임대료'].astype(float)\n",
    "test['임대료'] = test['임대료'].astype(float)"
   ]
  }
 ],
 "metadata": {
  "interpreter": {
   "hash": "f31793158cbfb50ffb2860039f1ca82094e049d2c6850393010bc9111f37c801"
  },
  "kernelspec": {
   "display_name": "Python 3.8.13 ('dacon')",
   "language": "python",
   "name": "python3"
  },
  "language_info": {
   "codemirror_mode": {
    "name": "ipython",
    "version": 3
   },
   "file_extension": ".py",
   "mimetype": "text/x-python",
   "name": "python",
   "nbconvert_exporter": "python",
   "pygments_lexer": "ipython3",
   "version": "3.8.13"
  },
  "orig_nbformat": 4
 },
 "nbformat": 4,
 "nbformat_minor": 2
}
